{
 "cells": [
  {
   "cell_type": "code",
   "execution_count": 1,
   "id": "0f2ad206",
   "metadata": {},
   "outputs": [],
   "source": [
    "import pandas as pd\n",
    "import numpy as np\n",
    "import matplotlib.pyplot as plt\n",
    "import matplotlib.colors as mcolors\n",
    "import glob \n",
    "\n",
    "#defining colors\n",
    "purple = mcolors.to_rgba('#4A1B4F')\n",
    "pink = mcolors.to_rgba('#CC2A57')\n",
    "blue = mcolors.to_rgba('#417CBF')\n",
    "green = mcolors.to_rgba('#23967C')\n",
    "yellow = mcolors.to_rgba('#D9A433')\n",
    "grey = mcolors.to_rgba('#595959')\n",
    "orange = mcolors.to_rgba('#EF5F33')\n",
    "black = mcolors.to_rgba('#000000')\n",
    "\n",
    "colors = [orange, orange, pink, grey, pink, orange, black, purple, pink, blue, green, yellow, grey]"
   ]
  },
  {
   "cell_type": "code",
   "execution_count": 2,
   "id": "adf7ca58",
   "metadata": {},
   "outputs": [],
   "source": [
    "#function to make the calibration curve, it will show the plot if you uncomment below\n",
    "def calcurve(filepath, coordinate, start_marker_cal):\n",
    "    with open(filepath) as file:\n",
    "        lines = file.readlines()   \n",
    "    end_marker_cal = 'Comment' \n",
    "    start_index_cal = next((i for i, line in enumerate(lines) if start_marker_cal in line), None)+2\n",
    "    end_index_cal = (next((i for i, line in enumerate(lines) if end_marker_cal in line), None))-2\n",
    "    lines_to_skip = list(range(0, start_index_cal)) + list(range(end_index_cal+1, len(lines)))\n",
    "    calcurve = pd.read_csv(filepath, skiprows=lines_to_skip, header=0, delimiter='\\t')\n",
    "    calcurve = calcurve.drop(['#', 'Weight', 'Error', 'Active','Virtual','Data Name'], axis=1)\n",
    "    calcurve['log(MW)'] = np.log10(calcurve['M.W.'])\n",
    "    \n",
    "    x = calcurve['Time(min)'].values\n",
    "    y = calcurve['log(MW)'].values\n",
    "\n",
    "    coeff = np.polyfit(x,y,coordinate)\n",
    "    poly_function = np.poly1d(coeff)\n",
    "\n",
    "    x_values = np.linspace(min(x), max(x), 100)\n",
    "    y_values = poly_function(x_values)\n",
    "\n",
    "    return poly_function\n"
   ]
  },
  {
   "cell_type": "code",
   "execution_count": 3,
   "id": "712b13a1",
   "metadata": {},
   "outputs": [],
   "source": [
    "#this function processes the data \n",
    "def process(filepath, csvout,  start_marker, end_marker, coordinate, start_marker_cal, start_time, end_time, blank_filepath):\n",
    "    poly_function = calcurve(filepath, coordinate, start_marker_cal)\n",
    "    with open(filepath) as file:\n",
    "        lines = file.readlines()\n",
    "    \n",
    "    #indices for where data being pulled from the text file\n",
    "    start_index = next((i for i, line in enumerate(lines) if start_marker in line), None)+7\n",
    "    end_index = (next((i for i, line in enumerate(lines) if end_marker in line), None))-1\n",
    "    \n",
    "    #defines which lines to skip so those between are pulled from the text file\n",
    "    lines_to_skip = list(range(0, start_index)) + list(range(end_index+1, len(lines)))\n",
    "    \n",
    "    with open(blank_filepath) as file:\n",
    "        lines_blank = file.readlines()\n",
    "    start_index_blank = next((i for i, line in enumerate(lines_blank) if start_marker in line), None)+7\n",
    "    end_index_blank = (next((i for i, line in enumerate(lines_blank) if end_marker in line), None))-1\n",
    "    \n",
    "    #defines which lines to skip so those between are pulled from the text file\n",
    "    lines_to_skip_blank = list(range(0, start_index_blank)) + list(range(end_index_blank+1, len(lines_blank)))\n",
    "    \n",
    "    blank = pd.read_csv(blank_filepath, skiprows=lines_to_skip_blank, header=0, delimiter='\\t')\n",
    "    df = pd.read_csv(filepath, skiprows=lines_to_skip, header=0, delimiter='\\t')\n",
    "\n",
    "    df['Intensity'] -= blank['Intensity'].values\n",
    "    \n",
    "    start = df.index[df['R.Time (min)'] == start_time].tolist()[0]\n",
    "    end = df.index[df['R.Time (min)'] == end_time].tolist()[0]\n",
    "    rows = range(start, end)\n",
    "    columns = ['R.Time (min)', 'Intensity']\n",
    "    data = df.loc[rows, columns]\n",
    "    \n",
    "    data['MW_PEG'] = poly_function(data['R.Time (min)'])\n",
    "    data['MW_PEG'] = 10 ** data['MW_PEG']\n",
    "    max_intensity = data['Intensity'].max()\n",
    "    min_intensity = data['Intensity'].min()\n",
    "    \n",
    "    data['normalized RI'] = (data['Intensity'] - min_intensity) / (max_intensity - min_intensity)\n",
    "    data.to_csv(csvout, index=False)\n",
    "    \n",
    "    processed = data[['MW_PEG', 'normalized RI']]\n",
    "    return processed\n"
   ]
  },
  {
   "cell_type": "code",
   "execution_count": 4,
   "id": "a02b0483",
   "metadata": {},
   "outputs": [],
   "source": [
    "#this function makes the plot\n",
    "def plotting(data_to_plot, colors, labels, title, xmin, xmax, plotout, lines, DMF_data, aq_data):\n",
    "    \n",
    "    fig = plt.figure()\n",
    "    for i, df in enumerate(data_to_plot):\n",
    "        plt.plot(df['MW_PEG'], df['normalized RI'], label=labels[i], color=colors[i], linestyle=lines[i])\n",
    "                \n",
    "    plt.xlabel('MW$_P$$_E$$_G$ (Da)')\n",
    "    plt.ylabel('normalized RI (mV)')\n",
    "    plt.title(title)\n",
    "    plt.legend(labels=labels)\n",
    "    plt.xlim(xmin,xmax)\n",
    "   \n",
    "    plt.show()\n",
    "    fig.savefig(plotout, format='png')\n"
   ]
  },
  {
   "cell_type": "code",
   "execution_count": 5,
   "id": "d3709210",
   "metadata": {},
   "outputs": [
    {
     "ename": "FileNotFoundError",
     "evalue": "[Errno 2] No such file or directory: 'example_data/aq_blank'",
     "output_type": "error",
     "traceback": [
      "\u001b[0;31m---------------------------------------------------------------------------\u001b[0m",
      "\u001b[0;31mFileNotFoundError\u001b[0m                         Traceback (most recent call last)",
      "Cell \u001b[0;32mIn[5], line 6\u001b[0m\n\u001b[1;32m      4\u001b[0m start_retention_time \u001b[38;5;241m=\u001b[39m \u001b[38;5;241m20\u001b[39m\n\u001b[1;32m      5\u001b[0m end_retention_time \u001b[38;5;241m=\u001b[39m \u001b[38;5;241m38\u001b[39m\n\u001b[0;32m----> 6\u001b[0m aq_data \u001b[38;5;241m=\u001b[39m process(aq_filepath, aq_csvout, \u001b[38;5;124m'\u001b[39m\u001b[38;5;124m[LC Chromatogram(Detector B-Ch1)]\u001b[39m\u001b[38;5;124m'\u001b[39m, \u001b[38;5;124m'\u001b[39m\u001b[38;5;124m[LC Status Trace(Pump A Pressure)]\u001b[39m\u001b[38;5;124m'\u001b[39m, \u001b[38;5;241m3\u001b[39m, \u001b[38;5;124m'\u001b[39m\u001b[38;5;124m[GPC Calibration Curve Table(Detector B)]\u001b[39m\u001b[38;5;124m'\u001b[39m, start_retention_time, end_retention_time, aq_blank)\n\u001b[1;32m      7\u001b[0m data_to_plot \u001b[38;5;241m=\u001b[39m [aq_data]\n\u001b[1;32m      9\u001b[0m \u001b[38;5;66;03m#uncomment to add more than one trace to the plot; also add the data to the plotting function call (last line here)\u001b[39;00m\n\u001b[1;32m     10\u001b[0m \u001b[38;5;66;03m# aq_filepath2 = \u001b[39;00m\n\u001b[1;32m     11\u001b[0m \u001b[38;5;66;03m# aq_csvout2 =\u001b[39;00m\n\u001b[1;32m     12\u001b[0m \u001b[38;5;66;03m# aq_data2 = process(aq_filepath2, aq_csvout2, '[LC Chromatogram(Detector B-Ch1)]', '[LC Status Trace(Pump A Pressure)]', 3, '[GPC Calibration Curve Table(Detector B)]', start_retention_time, end_retention_time, aq_blank)\u001b[39;00m\n\u001b[1;32m     13\u001b[0m \n\u001b[1;32m     14\u001b[0m \u001b[38;5;66;03m# data_to_plot.append(aq_data2)\u001b[39;00m\n",
      "Cell \u001b[0;32mIn[3], line 14\u001b[0m, in \u001b[0;36mprocess\u001b[0;34m(filepath, csvout, start_marker, end_marker, coordinate, start_marker_cal, start_time, end_time, blank_filepath)\u001b[0m\n\u001b[1;32m     11\u001b[0m \u001b[38;5;66;03m#defines which lines to skip so those between are pulled from the text file\u001b[39;00m\n\u001b[1;32m     12\u001b[0m lines_to_skip \u001b[38;5;241m=\u001b[39m \u001b[38;5;28mlist\u001b[39m(\u001b[38;5;28mrange\u001b[39m(\u001b[38;5;241m0\u001b[39m, start_index)) \u001b[38;5;241m+\u001b[39m \u001b[38;5;28mlist\u001b[39m(\u001b[38;5;28mrange\u001b[39m(end_index\u001b[38;5;241m+\u001b[39m\u001b[38;5;241m1\u001b[39m, \u001b[38;5;28mlen\u001b[39m(lines)))\n\u001b[0;32m---> 14\u001b[0m \u001b[38;5;28;01mwith\u001b[39;00m \u001b[38;5;28mopen\u001b[39m(blank_filepath) \u001b[38;5;28;01mas\u001b[39;00m file:\n\u001b[1;32m     15\u001b[0m     lines_blank \u001b[38;5;241m=\u001b[39m file\u001b[38;5;241m.\u001b[39mreadlines()\n\u001b[1;32m     16\u001b[0m start_index_blank \u001b[38;5;241m=\u001b[39m \u001b[38;5;28mnext\u001b[39m((i \u001b[38;5;28;01mfor\u001b[39;00m i, line \u001b[38;5;129;01min\u001b[39;00m \u001b[38;5;28menumerate\u001b[39m(lines_blank) \u001b[38;5;28;01mif\u001b[39;00m start_marker \u001b[38;5;129;01min\u001b[39;00m line), \u001b[38;5;28;01mNone\u001b[39;00m)\u001b[38;5;241m+\u001b[39m\u001b[38;5;241m7\u001b[39m\n",
      "File \u001b[0;32m~/anaconda3/envs/knight_lab/lib/python3.12/site-packages/IPython/core/interactiveshell.py:310\u001b[0m, in \u001b[0;36m_modified_open\u001b[0;34m(file, *args, **kwargs)\u001b[0m\n\u001b[1;32m    303\u001b[0m \u001b[38;5;28;01mif\u001b[39;00m file \u001b[38;5;129;01min\u001b[39;00m {\u001b[38;5;241m0\u001b[39m, \u001b[38;5;241m1\u001b[39m, \u001b[38;5;241m2\u001b[39m}:\n\u001b[1;32m    304\u001b[0m     \u001b[38;5;28;01mraise\u001b[39;00m \u001b[38;5;167;01mValueError\u001b[39;00m(\n\u001b[1;32m    305\u001b[0m         \u001b[38;5;124mf\u001b[39m\u001b[38;5;124m\"\u001b[39m\u001b[38;5;124mIPython won\u001b[39m\u001b[38;5;124m'\u001b[39m\u001b[38;5;124mt let you open fd=\u001b[39m\u001b[38;5;132;01m{\u001b[39;00mfile\u001b[38;5;132;01m}\u001b[39;00m\u001b[38;5;124m by default \u001b[39m\u001b[38;5;124m\"\u001b[39m\n\u001b[1;32m    306\u001b[0m         \u001b[38;5;124m\"\u001b[39m\u001b[38;5;124mas it is likely to crash IPython. If you know what you are doing, \u001b[39m\u001b[38;5;124m\"\u001b[39m\n\u001b[1;32m    307\u001b[0m         \u001b[38;5;124m\"\u001b[39m\u001b[38;5;124myou can use builtins\u001b[39m\u001b[38;5;124m'\u001b[39m\u001b[38;5;124m open.\u001b[39m\u001b[38;5;124m\"\u001b[39m\n\u001b[1;32m    308\u001b[0m     )\n\u001b[0;32m--> 310\u001b[0m \u001b[38;5;28;01mreturn\u001b[39;00m io_open(file, \u001b[38;5;241m*\u001b[39margs, \u001b[38;5;241m*\u001b[39m\u001b[38;5;241m*\u001b[39mkwargs)\n",
      "\u001b[0;31mFileNotFoundError\u001b[0m: [Errno 2] No such file or directory: 'example_data/aq_blank'"
     ]
    }
   ],
   "source": [
    "aq_filepath = 'example_data/aq_blank.txt'\n",
    "aq_csvout = 'example_data/example_aqueous.csv'\n",
    "aq_blank = 'example_data/aq_blank'\n",
    "start_retention_time = 20\n",
    "end_retention_time = 38\n",
    "aq_data = process(aq_filepath, aq_csvout, '[LC Chromatogram(Detector B-Ch1)]', '[LC Status Trace(Pump A Pressure)]', 3, '[GPC Calibration Curve Table(Detector B)]', start_retention_time, end_retention_time, aq_blank)\n",
    "data_to_plot = [aq_data]\n",
    "\n",
    "#uncomment to add more than one trace to the plot; also add the data to the plotting function call (last line here)\n",
    "# aq_filepath2 = \n",
    "# aq_csvout2 =\n",
    "# aq_data2 = process(aq_filepath2, aq_csvout2, '[LC Chromatogram(Detector B-Ch1)]', '[LC Status Trace(Pump A Pressure)]', 3, '[GPC Calibration Curve Table(Detector B)]', start_retention_time, end_retention_time, aq_blank)\n",
    "\n",
    "# data_to_plot.append(aq_data2)\n",
    "\n",
    "colors = [pink, green]\n",
    "\n",
    "labels = ['a', 'b']\n",
    "title = 'title'\n",
    "xmin = 500\n",
    "xmax = 25000\n",
    "plotout = 'example_data/example_aq_plot.png'\n",
    "lines = ['-', '--', ':', '-.']\n",
    "\n",
    "plotting(data_to_plot, colors, labels, title, xmin, xmax, plotout, lines, aq_data)"
   ]
  },
  {
   "cell_type": "code",
   "execution_count": null,
   "id": "880ba3d0",
   "metadata": {},
   "outputs": [],
   "source": [
    "\n",
    "\n"
   ]
  },
  {
   "cell_type": "code",
   "execution_count": null,
   "id": "cb5da252",
   "metadata": {},
   "outputs": [],
   "source": []
  }
 ],
 "metadata": {
  "kernelspec": {
   "display_name": "Python 3 (ipykernel)",
   "language": "python",
   "name": "python3"
  },
  "language_info": {
   "codemirror_mode": {
    "name": "ipython",
    "version": 3
   },
   "file_extension": ".py",
   "mimetype": "text/x-python",
   "name": "python",
   "nbconvert_exporter": "python",
   "pygments_lexer": "ipython3",
   "version": "3.12.2"
  }
 },
 "nbformat": 4,
 "nbformat_minor": 5
}
